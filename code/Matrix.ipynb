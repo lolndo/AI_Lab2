{
 "cells": [
  {
   "cell_type": "code",
   "execution_count": 1,
   "id": "57d3f16b-8309-48d4-aed0-cd6d3d5e823b",
   "metadata": {},
   "outputs": [],
   "source": [
    "import numpy as np"
   ]
  },
  {
   "cell_type": "code",
   "execution_count": 7,
   "id": "bd064be3-1505-496c-ab27-6efc417b1075",
   "metadata": {},
   "outputs": [],
   "source": [
    "A = np.array([[1,1,1],[3,-5,0],[2,0,-5]])\n",
    "B = np.array([20,0,0])"
   ]
  },
  {
   "cell_type": "code",
   "execution_count": 9,
   "id": "cd6d6bdd-c6d4-4f4e-a74d-3321148d7e18",
   "metadata": {},
   "outputs": [
    {
     "name": "stdout",
     "output_type": "stream",
     "text": [
      "[10.  6.  4.]\n"
     ]
    }
   ],
   "source": [
    "A_inv=np.linalg.inv(A)\n",
    "X = np.dot(A_inv, B)\n",
    "print(X)"
   ]
  },
  {
   "cell_type": "code",
   "execution_count": 11,
   "id": "947a70b5-d795-44ed-a97e-faeb073be02f",
   "metadata": {},
   "outputs": [
    {
     "data": {
      "text/plain": [
       "array([10.,  6.,  4.])"
      ]
     },
     "execution_count": 11,
     "metadata": {},
     "output_type": "execute_result"
    }
   ],
   "source": [
    "np.linalg.solve(A,B)"
   ]
  },
  {
   "cell_type": "code",
   "execution_count": null,
   "id": "32e5f6fb-91f7-45c6-ad5c-f420d7b3fa1a",
   "metadata": {},
   "outputs": [],
   "source": []
  }
 ],
 "metadata": {
  "kernelspec": {
   "display_name": "Python [conda env:base] *",
   "language": "python",
   "name": "conda-base-py"
  },
  "language_info": {
   "codemirror_mode": {
    "name": "ipython",
    "version": 3
   },
   "file_extension": ".py",
   "mimetype": "text/x-python",
   "name": "python",
   "nbconvert_exporter": "python",
   "pygments_lexer": "ipython3",
   "version": "3.12.7"
  },
  "panel-cell-order": [
   "aa4310f1-dbeb-48ec-85f0-e11a29969f56",
   "070d32c6-f5d5-4a0d-9a29-6cdb72d81114",
   "dabb2721-804d-476c-9ca9-39a193884e56"
  ]
 },
 "nbformat": 4,
 "nbformat_minor": 5
}
