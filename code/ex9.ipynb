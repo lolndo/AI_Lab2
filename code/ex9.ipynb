{
 "cells": [
  {
   "cell_type": "code",
   "execution_count": 2,
   "id": "fc9b10a0-94ce-4f3d-b3f7-50729a76f2d9",
   "metadata": {},
   "outputs": [],
   "source": [
    "import numpy as np"
   ]
  },
  {
   "cell_type": "code",
   "execution_count": 4,
   "id": "cb5056dc-0b9f-406d-9256-a476ca2051ef",
   "metadata": {},
   "outputs": [
    {
     "name": "stdout",
     "output_type": "stream",
     "text": [
      "Исходная матрица:\n",
      " [[11 34 24 50]\n",
      " [20 33  7 47]\n",
      " [13 45 20 27]\n",
      " [28 43 12 15]]\n"
     ]
    }
   ],
   "source": [
    "matrix = np.random.randint(1, 51, size=(4, 4))\n",
    "print(\"Исходная матрица:\\n\", matrix)"
   ]
  },
  {
   "cell_type": "code",
   "execution_count": 6,
   "id": "b03e7cb8-4a8a-489c-b304-89eef53cd4df",
   "metadata": {},
   "outputs": [
    {
     "name": "stdout",
     "output_type": "stream",
     "text": [
      "Транспонированная матрица:\n",
      " [[11 20 13 28]\n",
      " [34 33 45 43]\n",
      " [24  7 20 12]\n",
      " [50 47 27 15]]\n"
     ]
    }
   ],
   "source": [
    "transposed_matrix = matrix.T\n",
    "print(\"Транспонированная матрица:\\n\", transposed_matrix)"
   ]
  },
  {
   "cell_type": "code",
   "execution_count": 8,
   "id": "805f7a60-871e-4bac-b65d-beff0b609b77",
   "metadata": {},
   "outputs": [
    {
     "name": "stdout",
     "output_type": "stream",
     "text": [
      "След матрицы: 79\n"
     ]
    }
   ],
   "source": [
    "trace = np.trace(matrix)\n",
    "print(\"След матрицы:\", trace)"
   ]
  },
  {
   "cell_type": "code",
   "execution_count": null,
   "id": "f848f154-6f74-436c-baa8-c150a16b58ee",
   "metadata": {},
   "outputs": [],
   "source": []
  }
 ],
 "metadata": {
  "kernelspec": {
   "display_name": "Python [conda env:base] *",
   "language": "python",
   "name": "conda-base-py"
  },
  "language_info": {
   "codemirror_mode": {
    "name": "ipython",
    "version": 3
   },
   "file_extension": ".py",
   "mimetype": "text/x-python",
   "name": "python",
   "nbconvert_exporter": "python",
   "pygments_lexer": "ipython3",
   "version": "3.12.7"
  }
 },
 "nbformat": 4,
 "nbformat_minor": 5
}
