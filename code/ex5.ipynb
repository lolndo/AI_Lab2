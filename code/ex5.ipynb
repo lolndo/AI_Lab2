{
 "cells": [
  {
   "cell_type": "code",
   "execution_count": 2,
   "id": "dbf8d6d4-d0ba-45d0-aee2-2ac8492b5fa5",
   "metadata": {},
   "outputs": [],
   "source": [
    "import numpy as np"
   ]
  },
  {
   "cell_type": "code",
   "execution_count": 4,
   "id": "fffcca7b-98be-4a90-88f0-46198cdd043e",
   "metadata": {},
   "outputs": [
    {
     "name": "stdout",
     "output_type": "stream",
     "text": [
      "[[1. 0. 0. 0.]\n",
      " [0. 1. 0. 0.]\n",
      " [0. 0. 1. 0.]\n",
      " [0. 0. 0. 1.]] \n",
      "\n",
      " [[ 5  0  0  0]\n",
      " [ 0 10  0  0]\n",
      " [ 0  0 15  0]\n",
      " [ 0  0  0 20]]\n"
     ]
    }
   ],
   "source": [
    "eye = np.eye(4)\n",
    "diag = np.matrix([[5,0,0,0],[0,10,0,0],[0,0,15,0],[0,0,0,20]])\n",
    "\n",
    "print(eye,\"\\n\\n\",diag)"
   ]
  },
  {
   "cell_type": "code",
   "execution_count": 10,
   "id": "2a1148ae-b0b7-4ae1-a00d-8891b95b0d04",
   "metadata": {},
   "outputs": [
    {
     "name": "stdout",
     "output_type": "stream",
     "text": [
      "cумма единичной матрицы: 4.0 \n",
      "сумма диагональной матрицы: 50 \n",
      "sum_eye >sum_diag?: True\n"
     ]
    }
   ],
   "source": [
    "sum_eye = np.sum(eye)\n",
    "sum_diag = np.sum(diag)\n",
    "print('cумма единичной матрицы:', sum_eye, \"\\nсумма диагональной матрицы:\", sum_diag,'\\nsum_eye >sum_diag?:',sum_eye < sum_diag)"
   ]
  },
  {
   "cell_type": "code",
   "execution_count": null,
   "id": "aa7200ce-49af-46e0-96f8-1434a4c3594e",
   "metadata": {},
   "outputs": [],
   "source": []
  }
 ],
 "metadata": {
  "kernelspec": {
   "display_name": "Python [conda env:base] *",
   "language": "python",
   "name": "conda-base-py"
  },
  "language_info": {
   "codemirror_mode": {
    "name": "ipython",
    "version": 3
   },
   "file_extension": ".py",
   "mimetype": "text/x-python",
   "name": "python",
   "nbconvert_exporter": "python",
   "pygments_lexer": "ipython3",
   "version": "3.12.7"
  }
 },
 "nbformat": 4,
 "nbformat_minor": 5
}
