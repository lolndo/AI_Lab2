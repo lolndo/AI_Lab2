{
 "cells": [
  {
   "cell_type": "code",
   "execution_count": 1,
   "id": "50ba1969-56a4-459d-b82f-cebb5338cb4d",
   "metadata": {},
   "outputs": [
    {
     "data": {
      "text/plain": [
       "matrix([[42, 42, 31, 16, 49],\n",
       "        [21, 43, 41, 31,  1]])"
      ]
     },
     "execution_count": 1,
     "metadata": {},
     "output_type": "execute_result"
    }
   ],
   "source": [
    "import numpy as np\n",
    "x = np.random.randint(1,50, size=5)\n",
    "y = np.random.randint(1,50, size=5)\n",
    "np.matrix([x,y])"
   ]
  },
  {
   "cell_type": "code",
   "execution_count": 7,
   "id": "2bfb359f-e1b5-41f7-a37f-9b35605dac8d",
   "metadata": {},
   "outputs": [
    {
     "name": "stdout",
     "output_type": "stream",
     "text": [
      "Объединенный массив:\n",
      " [42 42 31 16 49 21 43 41 31  1]\n"
     ]
    }
   ],
   "source": [
    "combined_array = np.concatenate((x, y), axis=0)\n",
    "print(\"Объединенный массив:\\n\", combined_array)"
   ]
  },
  {
   "cell_type": "code",
   "execution_count": 32,
   "id": "334988be-5058-41c9-909e-873e7e5264a3",
   "metadata": {},
   "outputs": [
    {
     "name": "stdout",
     "output_type": "stream",
     "text": [
      "Разделенный массив 2: [42 42 31 16 49]\n",
      "Разделенный массив 2: [21 43 41 31  1]\n"
     ]
    }
   ],
   "source": [
    "split_array1 = combined_array[:5]\n",
    "split_array2 = combined_array[5:]\n",
    "print(\"Разделенный массив 2:\", split_array1)\n",
    "print(\"Разделенный массив 2:\", split_array2)"
   ]
  },
  {
   "cell_type": "code",
   "execution_count": null,
   "id": "43779ef1-7ad6-40bc-9a72-76c49d3ecce5",
   "metadata": {},
   "outputs": [],
   "source": []
  }
 ],
 "metadata": {
  "kernelspec": {
   "display_name": "Python [conda env:base] *",
   "language": "python",
   "name": "conda-base-py"
  },
  "language_info": {
   "codemirror_mode": {
    "name": "ipython",
    "version": 3
   },
   "file_extension": ".py",
   "mimetype": "text/x-python",
   "name": "python",
   "nbconvert_exporter": "python",
   "pygments_lexer": "ipython3",
   "version": "3.12.7"
  }
 },
 "nbformat": 4,
 "nbformat_minor": 5
}
