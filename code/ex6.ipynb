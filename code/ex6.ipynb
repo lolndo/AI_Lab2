{
 "cells": [
  {
   "cell_type": "code",
   "execution_count": 1,
   "id": "74dc9f33-000a-4c34-bd13-395211f0ad28",
   "metadata": {},
   "outputs": [],
   "source": [
    "import numpy as np"
   ]
  },
  {
   "cell_type": "code",
   "execution_count": 18,
   "id": "c4fc9ce4-a2a3-4832-b6ba-2fc9a9874296",
   "metadata": {},
   "outputs": [
    {
     "name": "stdout",
     "output_type": "stream",
     "text": [
      "[[20 12 14]\n",
      " [18 10 11]\n",
      " [18 18 16]]\n",
      "\n",
      "[[20 11 20]\n",
      " [ 6 15 19]\n",
      " [17 18 11]]\n"
     ]
    }
   ],
   "source": [
    "A = np.random.randint(1, 21, size=(3, 3))\n",
    "B = np.random.randint(1, 21, size=(3, 3))\n",
    "print(A)\n",
    "print()\n",
    "print(B)"
   ]
  },
  {
   "cell_type": "code",
   "execution_count": 14,
   "id": "c67ef041-ce9d-4025-82df-b79a8e28cb1a",
   "metadata": {},
   "outputs": [],
   "source": [
    "Sum = A+B\n",
    "Raz = A-B\n",
    "Umn = A*B"
   ]
  },
  {
   "cell_type": "code",
   "execution_count": 26,
   "id": "18132629-3b7c-402b-bdb9-66a4149a9040",
   "metadata": {},
   "outputs": [
    {
     "name": "stdout",
     "output_type": "stream",
     "text": [
      "Cумма:\n",
      " [[28 20 23]\n",
      " [ 8 27 22]\n",
      " [26  9 11]] \n",
      "\n",
      "Разность:\n",
      " [[-4 16  9]\n",
      " [-2  9  2]\n",
      " [12  1  9]] \n",
      "\n",
      "Произведение:\n",
      " [[192  36 112]\n",
      " [ 15 162 120]\n",
      " [133  20  10]] \n",
      "\n"
     ]
    }
   ],
   "source": [
    "print(\"Cумма:\\n\",Sum, \"\\n\")\n",
    "print(\"Разность:\\n\",Raz, \"\\n\")\n",
    "print(\"Произведение:\\n\",Umn, \"\\n\")"
   ]
  },
  {
   "cell_type": "code",
   "execution_count": null,
   "id": "acecf20b-8274-4218-a84b-f671ec2cd71c",
   "metadata": {},
   "outputs": [],
   "source": []
  }
 ],
 "metadata": {
  "kernelspec": {
   "display_name": "Python [conda env:base] *",
   "language": "python",
   "name": "conda-base-py"
  },
  "language_info": {
   "codemirror_mode": {
    "name": "ipython",
    "version": 3
   },
   "file_extension": ".py",
   "mimetype": "text/x-python",
   "name": "python",
   "nbconvert_exporter": "python",
   "pygments_lexer": "ipython3",
   "version": "3.12.7"
  }
 },
 "nbformat": 4,
 "nbformat_minor": 5
}
