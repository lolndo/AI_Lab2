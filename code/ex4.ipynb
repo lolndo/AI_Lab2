{
 "cells": [
  {
   "cell_type": "code",
   "execution_count": 2,
   "id": "ea6489a6-c153-439b-81db-b43d34b3a549",
   "metadata": {},
   "outputs": [],
   "source": [
    "import numpy as np"
   ]
  },
  {
   "cell_type": "code",
   "execution_count": 6,
   "id": "53bfd003-8832-48a6-b92f-ec1e11695e28",
   "metadata": {},
   "outputs": [
    {
     "name": "stdout",
     "output_type": "stream",
     "text": [
      "[-10.          -9.59183673  -9.18367347  -8.7755102   -8.36734694\n",
      "  -7.95918367  -7.55102041  -7.14285714  -6.73469388  -6.32653061\n",
      "  -5.91836735  -5.51020408  -5.10204082  -4.69387755  -4.28571429\n",
      "  -3.87755102  -3.46938776  -3.06122449  -2.65306122  -2.24489796\n",
      "  -1.83673469  -1.42857143  -1.02040816  -0.6122449   -0.20408163\n",
      "   0.20408163   0.6122449    1.02040816   1.42857143   1.83673469\n",
      "   2.24489796   2.65306122   3.06122449   3.46938776   3.87755102\n",
      "   4.28571429   4.69387755   5.10204082   5.51020408   5.91836735\n",
      "   6.32653061   6.73469388   7.14285714   7.55102041   7.95918367\n",
      "   8.36734694   8.7755102    9.18367347   9.59183673  10.        ]\n"
     ]
    }
   ],
   "source": [
    "m = np.linspace(-10, 10, 50)\n",
    "print(m)"
   ]
  },
  {
   "cell_type": "code",
   "execution_count": 10,
   "id": "2ab27414-745e-4bb1-acec-77a64261f371",
   "metadata": {},
   "outputs": [
    {
     "name": "stdout",
     "output_type": "stream",
     "text": [
      "7.105427357601002e-15\n"
     ]
    }
   ],
   "source": [
    "all_sum= np.sum(m)\n",
    "print(all_sum)"
   ]
  },
  {
   "cell_type": "code",
   "execution_count": 14,
   "id": "29d4f17f-08cb-403d-8f47-41772c8c1b84",
   "metadata": {},
   "outputs": [
    {
     "name": "stdout",
     "output_type": "stream",
     "text": [
      "127.55102040816328\n"
     ]
    }
   ],
   "source": [
    "plus_sum=np.sum(m[m>0])\n",
    "print(plus_sum)"
   ]
  },
  {
   "cell_type": "code",
   "execution_count": 16,
   "id": "6b6ed596-13f5-4dfd-8ffe-9f2151a877cd",
   "metadata": {},
   "outputs": [
    {
     "name": "stdout",
     "output_type": "stream",
     "text": [
      "-127.55102040816327\n"
     ]
    }
   ],
   "source": [
    "minus_sum=np.sum(m[m<0])\n",
    "print(minus_sum)"
   ]
  },
  {
   "cell_type": "code",
   "execution_count": null,
   "id": "bdc48977-a3d7-410b-911f-0935bac80ad7",
   "metadata": {},
   "outputs": [],
   "source": []
  }
 ],
 "metadata": {
  "kernelspec": {
   "display_name": "Python [conda env:base] *",
   "language": "python",
   "name": "conda-base-py"
  },
  "language_info": {
   "codemirror_mode": {
    "name": "ipython",
    "version": 3
   },
   "file_extension": ".py",
   "mimetype": "text/x-python",
   "name": "python",
   "nbconvert_exporter": "python",
   "pygments_lexer": "ipython3",
   "version": "3.12.7"
  }
 },
 "nbformat": 4,
 "nbformat_minor": 5
}
