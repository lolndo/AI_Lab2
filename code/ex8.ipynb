{
 "cells": [
  {
   "cell_type": "code",
   "execution_count": 3,
   "id": "bd88ad0c-ae61-40e9-bd69-9b1734ff79d8",
   "metadata": {},
   "outputs": [],
   "source": [
    "import numpy as np"
   ]
  },
  {
   "cell_type": "code",
   "execution_count": 22,
   "id": "730e1f1c-1a0c-48ea-91d8-66cc8203e19e",
   "metadata": {},
   "outputs": [
    {
     "name": "stdout",
     "output_type": "stream",
     "text": [
      "Матрица:\n",
      " [[10 18 18]\n",
      " [ 9 11  7]\n",
      " [14 11  7]]\n"
     ]
    }
   ],
   "source": [
    "A = np.random.randint(1, 21, size=(3, 3))\n",
    "print(\"Матрица:\\n\", A)"
   ]
  },
  {
   "cell_type": "code",
   "execution_count": 19,
   "id": "2da4f8b1-4a2d-4332-b05f-5722d22805d8",
   "metadata": {},
   "outputs": [
    {
     "name": "stdout",
     "output_type": "stream",
     "text": [
      "Определитель матрицы:1200\n"
     ]
    }
   ],
   "source": [
    "det = np.linalg.det(A)\n",
    "print(\"Определитель матрицы:{:.0f}\".format(det))"
   ]
  },
  {
   "cell_type": "code",
   "execution_count": 11,
   "id": "af8c2952-5bef-4250-9f87-23fa192fbbd5",
   "metadata": {},
   "outputs": [
    {
     "name": "stdout",
     "output_type": "stream",
     "text": [
      "Обратная матрица:\n",
      " [[-0.145      -0.115       0.215     ]\n",
      " [-0.01666667 -0.11666667  0.11666667]\n",
      " [ 0.16416667  0.19916667 -0.24916667]]\n"
     ]
    }
   ],
   "source": [
    "try:\n",
    "    inverse_matrix = np.linalg.inv(A)\n",
    "    print(\"Обратная матрица:\\n\", inverse_matrix)\n",
    "except np.linalg.LinAlgError:\n",
    "    print(\"Матрица вырождена и не имеет обратной матрицы.\")"
   ]
  },
  {
   "cell_type": "code",
   "execution_count": null,
   "id": "a5d9b83d-9c27-4db0-9972-a911e595ed99",
   "metadata": {},
   "outputs": [],
   "source": []
  }
 ],
 "metadata": {
  "kernelspec": {
   "display_name": "Python [conda env:base] *",
   "language": "python",
   "name": "conda-base-py"
  },
  "language_info": {
   "codemirror_mode": {
    "name": "ipython",
    "version": 3
   },
   "file_extension": ".py",
   "mimetype": "text/x-python",
   "name": "python",
   "nbconvert_exporter": "python",
   "pygments_lexer": "ipython3",
   "version": "3.12.7"
  }
 },
 "nbformat": 4,
 "nbformat_minor": 5
}
