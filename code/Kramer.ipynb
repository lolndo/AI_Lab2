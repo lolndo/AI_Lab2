{
 "cells": [
  {
   "cell_type": "code",
   "execution_count": 2,
   "id": "0683a1c3-f58e-4340-892a-7ef6d59b301f",
   "metadata": {},
   "outputs": [],
   "source": [
    "import numpy as np"
   ]
  },
  {
   "cell_type": "code",
   "execution_count": 4,
   "id": "23f5efb9-bfe8-44c2-8d9e-30f52fa4b42a",
   "metadata": {},
   "outputs": [],
   "source": [
    "A = np.array([[1,1,1],[3,-5,0],[2,0,-5]])\n",
    "B = np.array([20,0,0])"
   ]
  },
  {
   "cell_type": "code",
   "execution_count": 6,
   "id": "c4863831-ebc3-429b-9c62-465425d4f17e",
   "metadata": {},
   "outputs": [
    {
     "name": "stdout",
     "output_type": "stream",
     "text": [
      "50.000000000000014\n"
     ]
    }
   ],
   "source": [
    "dA = np.linalg.det(A)\n",
    "print(dA)"
   ]
  },
  {
   "cell_type": "code",
   "execution_count": 8,
   "id": "632c5939-9ab2-4202-a84c-dba5a9eba640",
   "metadata": {},
   "outputs": [
    {
     "name": "stdout",
     "output_type": "stream",
     "text": [
      "[[20  1  1]\n",
      " [ 0 -5  0]\n",
      " [ 0  0 -5]] \n",
      "\n",
      "[[ 1 20  1]\n",
      " [ 3  0  0]\n",
      " [ 2  0 -5]] \n",
      "[[ 1  1 20]\n",
      " [ 3 -5  0]\n",
      " [ 2  0  0]]\n",
      "d1=500 \n",
      "d2=300 \n",
      "d3=200\n"
     ]
    }
   ],
   "source": [
    "Ax = np.copy(A)\n",
    "Ay = np.copy(A)\n",
    "Az = np.copy(A)\n",
    "\n",
    "Ax[:, 0] = B\n",
    "Ay[:, 1] = B\n",
    "Az[:, 2] = B\n",
    "\n",
    "d1 = np.linalg.det(Ax)\n",
    "d2 = np.linalg.det(Ay)\n",
    "d3 = np.linalg.det(Az)\n",
    "\n",
    "print(\"{} \\n\\n{} \\n{}\".format(Ax,Ay,Az))\n",
    "print(\"d1={:.0f} \\nd2={:.0f} \\nd3={:.0f}\".format(d1,d2,d3))"
   ]
  },
  {
   "cell_type": "code",
   "execution_count": 10,
   "id": "95b12737-774c-463e-a9dc-90d992aecad3",
   "metadata": {},
   "outputs": [
    {
     "name": "stdout",
     "output_type": "stream",
     "text": [
      "Ответ\n",
      "x=10 \n",
      "y=6 \n",
      "z=4\n"
     ]
    }
   ],
   "source": [
    "x = d1/dA\n",
    "y = d2/dA\n",
    "z = d3/dA\n",
    "print(\"Ответ\\nx={:.0f} \\ny={:.0f} \\nz={:.0f}\".format(x,y,z))"
   ]
  },
  {
   "cell_type": "code",
   "execution_count": 12,
   "id": "0421d909-fb5b-42e9-9c46-585d959a955f",
   "metadata": {},
   "outputs": [
    {
     "data": {
      "text/plain": [
       "array([10.,  6.,  4.])"
      ]
     },
     "execution_count": 12,
     "metadata": {},
     "output_type": "execute_result"
    }
   ],
   "source": [
    "np.linalg.solve(A,B) #проверка"
   ]
  },
  {
   "cell_type": "code",
   "execution_count": null,
   "id": "813422f0-c8ee-4f5c-85c8-1a5dbba3e3b8",
   "metadata": {},
   "outputs": [],
   "source": []
  }
 ],
 "metadata": {
  "kernelspec": {
   "display_name": "Python [conda env:base] *",
   "language": "python",
   "name": "conda-base-py"
  },
  "language_info": {
   "codemirror_mode": {
    "name": "ipython",
    "version": 3
   },
   "file_extension": ".py",
   "mimetype": "text/x-python",
   "name": "python",
   "nbconvert_exporter": "python",
   "pygments_lexer": "ipython3",
   "version": "3.12.7"
  },
  "panel-cell-order": [
   "aa4310f1-dbeb-48ec-85f0-e11a29969f56",
   "070d32c6-f5d5-4a0d-9a29-6cdb72d81114",
   "dabb2721-804d-476c-9ca9-39a193884e56"
  ]
 },
 "nbformat": 4,
 "nbformat_minor": 5
}
